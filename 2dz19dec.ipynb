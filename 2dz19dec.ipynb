{
  "nbformat": 4,
  "nbformat_minor": 0,
  "metadata": {
    "colab": {
      "provenance": [],
      "authorship_tag": "ABX9TyNQiJz2lW+t8FikqBxD+0Q3",
      "include_colab_link": true
    },
    "kernelspec": {
      "name": "python3",
      "display_name": "Python 3"
    },
    "language_info": {
      "name": "python"
    }
  },
  "cells": [
    {
      "cell_type": "markdown",
      "metadata": {
        "id": "view-in-github",
        "colab_type": "text"
      },
      "source": [
        "<a href=\"https://colab.research.google.com/github/NazarovNikita1/RepForDomashneeZadanie/blob/main/2dz19dec.ipynb\" target=\"_parent\"><img src=\"https://colab.research.google.com/assets/colab-badge.svg\" alt=\"Open In Colab\"/></a>"
      ]
    },
    {
      "cell_type": "code",
      "execution_count": 3,
      "metadata": {
        "colab": {
          "base_uri": "https://localhost:8080/"
        },
        "id": "D_lA9M2It3oK",
        "outputId": "d98466d1-4c60-4a0a-f39d-cf2a061a6ed7"
      },
      "outputs": [
        {
          "output_type": "stream",
          "name": "stdout",
          "text": [
            "Top 3 Most Common Lemmas:\n",
            "Грека: 2\n",
            "реку: 2\n",
            "грека: 2\n"
          ]
        }
      ],
      "source": [
        "import spacy\n",
        "from collections import Counter\n",
        "\n",
        "class LemmaStats:\n",
        "    def __init__(self, document):\n",
        "        self.document = document\n",
        "        self.nlp = spacy.load(\"en_core_web_sm\")\n",
        "        self.lemmas = []\n",
        "\n",
        "    def lemmatize(self):\n",
        "        doc = self.nlp(self.document)\n",
        "        self.lemmas = [token.lemma_ for token in doc if token.is_alpha]\n",
        "\n",
        "    def display_most_common_lemmas(self, n):\n",
        "        if not self.lemmas:\n",
        "            print(\"No lemmas found. Please run lemmatize first.\")\n",
        "            return\n",
        "\n",
        "        lemma_counter = Counter(self.lemmas)\n",
        "\n",
        "        most_common_lemmas = lemma_counter.most_common(n)\n",
        "        print(f\"Top {n} Most Common Lemmas:\")\n",
        "        for lemma, count in most_common_lemmas:\n",
        "            print(f\"{lemma}: {count}\")\n",
        "\n",
        "#пример использования:\n",
        "document = \"Ехал Грека через реку, видит Грека - в реке рак. Сунул Грека руку в реку,Рак за руку Грека - цап!.\"\n",
        "lemma_stats = LemmaStats(document)\n",
        "\n",
        "lemma_stats.lemmatize()\n",
        "\n",
        "lemma_stats.display_most_common_lemmas(3)\n"
      ]
    }
  ]
}