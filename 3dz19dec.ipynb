{
  "nbformat": 4,
  "nbformat_minor": 0,
  "metadata": {
    "colab": {
      "provenance": [],
      "authorship_tag": "ABX9TyN6WmZd0xRDD0fNIyCxA7uj",
      "include_colab_link": true
    },
    "kernelspec": {
      "name": "python3",
      "display_name": "Python 3"
    },
    "language_info": {
      "name": "python"
    }
  },
  "cells": [
    {
      "cell_type": "markdown",
      "metadata": {
        "id": "view-in-github",
        "colab_type": "text"
      },
      "source": [
        "<a href=\"https://colab.research.google.com/github/NazarovNikita1/RepForDomashneeZadanie/blob/main/3dz19dec.ipynb\" target=\"_parent\"><img src=\"https://colab.research.google.com/assets/colab-badge.svg\" alt=\"Open In Colab\"/></a>"
      ]
    },
    {
      "cell_type": "code",
      "source": [
        "import nltk\n",
        "nltk.download('averaged_perceptron_tagger')\n",
        "nltk.download('punkt')\n",
        "from nltk.tokenize import word_tokenize\n",
        "from nltk import pos_tag\n",
        "from collections import Counter\n",
        "\n",
        "class PoSStats:\n",
        "    def __init__(self, document):\n",
        "        self.document = document\n",
        "        self.tokens = []\n",
        "\n",
        "    def tokenize_and_tag(self):\n",
        "        self.tokens = pos_tag(word_tokenize(self.document))\n",
        "\n",
        "    def display_most_common_pos(self, n):\n",
        "        if not self.tokens:\n",
        "            print(\"No tokens found. Please run tokenize_and_tag first.\")\n",
        "            return\n",
        "\n",
        "        pos_counter = Counter(tag for _, tag in self.tokens)\n",
        "\n",
        "        most_common_pos = pos_counter.most_common(n)\n",
        "        print(f\"Top {n} Most Common Parts of Speech:\")\n",
        "        for pos, count in most_common_pos:\n",
        "            print(f\"{pos}: {count}\")\n",
        "\n",
        "#пример использования:\n",
        "document = \"I've seen things you people wouldn't believe. Attack ships on fire off the shoulder of Orion. I watched C-beams glitter in the dark near the Tannhäuser Gate. All those moments will be lost in time, like tears in rain. Time to die.\"\n",
        "pos_stats = PoSStats(document)\n",
        "\n",
        "pos_stats.tokenize_and_tag()\n",
        "\n",
        "pos_stats.display_most_common_pos(3)\n"
      ],
      "metadata": {
        "colab": {
          "base_uri": "https://localhost:8080/"
        },
        "id": "BpUBLePLxgtR",
        "outputId": "b67eb4e4-edd5-42b5-d30b-8223d0eef8cc"
      },
      "execution_count": 16,
      "outputs": [
        {
          "output_type": "stream",
          "name": "stdout",
          "text": [
            "Top 3 Most Common Parts of Speech:\n",
            "IN: 8\n",
            "NN: 7\n",
            ".: 5\n"
          ]
        },
        {
          "output_type": "stream",
          "name": "stderr",
          "text": [
            "[nltk_data] Downloading package averaged_perceptron_tagger to\n",
            "[nltk_data]     /root/nltk_data...\n",
            "[nltk_data]   Package averaged_perceptron_tagger is already up-to-\n",
            "[nltk_data]       date!\n",
            "[nltk_data] Downloading package punkt to /root/nltk_data...\n",
            "[nltk_data]   Package punkt is already up-to-date!\n"
          ]
        }
      ]
    },
    {
      "cell_type": "code",
      "source": [],
      "metadata": {
        "id": "Xkt8i29Nxfmw"
      },
      "execution_count": null,
      "outputs": []
    }
  ]
}